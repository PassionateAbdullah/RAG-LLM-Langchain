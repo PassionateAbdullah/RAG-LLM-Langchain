{
  "nbformat": 4,
  "nbformat_minor": 0,
  "metadata": {
    "colab": {
      "provenance": [],
      "authorship_tag": "ABX9TyMD6vqMJ1fuU1LMg/pqpxkI",
      "include_colab_link": true
    },
    "kernelspec": {
      "name": "python3",
      "display_name": "Python 3"
    },
    "language_info": {
      "name": "python"
    }
  },
  "cells": [
    {
      "cell_type": "markdown",
      "metadata": {
        "id": "view-in-github",
        "colab_type": "text"
      },
      "source": [
        "<a href=\"https://colab.research.google.com/github/PassionateAbdullah/RAG-LLM-Langchain/blob/main/similarity_metrics_in_RAG.ipynb\" target=\"_parent\"><img src=\"https://colab.research.google.com/assets/colab-badge.svg\" alt=\"Open In Colab\"/></a>"
      ]
    },
    {
      "cell_type": "markdown",
      "source": [
        "Types of similarity metrics\n",
        "\n",
        "1. Cosine Similarity:\n",
        "Measures the cosine of the angle between two vectors.\n",
        "\n",
        "Values range from -1 (opposite) to 1 (identical). In RAG, we usually normalize vectors, so it ranges from 0 to 1.\n",
        "2. Dot Product:\n",
        "Measures the raw projection of one vector onto another.\n",
        "\n",
        "Larger values mean greater similarity.\n",
        "\n",
        "3. Euclidean Distance:\n",
        "Measures the straight-line distance between two points in space.\n",
        "\n",
        "Lower values mean more similar."
      ],
      "metadata": {
        "id": "CaCqlkNrjQUt"
      }
    },
    {
      "cell_type": "code",
      "source": [
        "import numpy as np\n",
        "\n",
        "# Sample vectors (e.g., query and document embeddings)\n",
        "query = np.array([1.0, 2.0, 3.0])\n",
        "doc = np.array([2.0, 4.0, 6.0])\n",
        "\n",
        "# 1. Cosine Similarity\n",
        "def cosine_similarity(a, b):\n",
        "    return np.dot(a, b) / (np.linalg.norm(a) * np.linalg.norm(b))\n",
        "\n",
        "# 2. Dot Product\n",
        "def dot_product(a, b):\n",
        "    return np.dot(a, b)\n",
        "\n",
        "# 3. Euclidean Distance\n",
        "def euclidean_distance(a, b):\n",
        "    return np.linalg.norm(a - b)\n",
        "\n",
        "# Test\n",
        "print(\"Cosine Similarity:\", cosine_similarity(query, doc))   # -> 1.0\n",
        "print(\"Dot Product:\", dot_product(query, doc))               # -> 28.0\n",
        "print(\"Euclidean Distance:\", euclidean_distance(query, doc)) # -> 3.7416"
      ],
      "metadata": {
        "colab": {
          "base_uri": "https://localhost:8080/"
        },
        "id": "qCokUXzUjykF",
        "outputId": "af2a56ab-de7f-4522-fc92-68a448fbd219"
      },
      "execution_count": 1,
      "outputs": [
        {
          "output_type": "stream",
          "name": "stdout",
          "text": [
            "Cosine Similarity: 1.0\n",
            "Dot Product: 28.0\n",
            "Euclidean Distance: 3.7416573867739413\n"
          ]
        }
      ]
    },
    {
      "cell_type": "markdown",
      "source": [
        "🔄 When to Use What?\n",
        "Metric\n",
        "\n",
        "Use Case\n",
        "\n",
        "Pros\n",
        "\n",
        "Cons\n",
        "\n",
        "Cosine Similarity\tStandard in NLP & embedding search\n",
        "\n",
        "Scale-invariant,\n",
        "\n",
        " interpretable\n",
        "\n",
        " Slightly more expensive\n",
        "\n",
        "Dot Product\tFast retrieval with normalized vectors\tVery efficient,\n",
        "\n",
        " used in FAISS\n",
        "\n",
        " Needs normalization\n",
        "\n",
        "\n",
        "Euclidean Distance\tClustering,\n",
        "\n",
        " spatial proximity\n",
        "\n",
        " Intuitive\tSensitive to vector magnitude\n"
      ],
      "metadata": {
        "id": "XX5Ztdl5j_JK"
      }
    }
  ]
}