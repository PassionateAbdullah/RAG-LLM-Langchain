{
  "nbformat": 4,
  "nbformat_minor": 0,
  "metadata": {
    "colab": {
      "provenance": [],
      "authorship_tag": "ABX9TyPD//szv4gCamv9kdbI4r98",
      "include_colab_link": true
    },
    "kernelspec": {
      "name": "python3",
      "display_name": "Python 3"
    },
    "language_info": {
      "name": "python"
    }
  },
  "cells": [
    {
      "cell_type": "markdown",
      "metadata": {
        "id": "view-in-github",
        "colab_type": "text"
      },
      "source": [
        "<a href=\"https://colab.research.google.com/github/PassionateAbdullah/RAG-LLM-Langchain/blob/main/Semantic_chunking_with_diff_method_and_thrashold.ipynb\" target=\"_parent\"><img src=\"https://colab.research.google.com/assets/colab-badge.svg\" alt=\"Open In Colab\"/></a>"
      ]
    },
    {
      "cell_type": "code",
      "execution_count": null,
      "metadata": {
        "id": "KGte9R50MvsB"
      },
      "outputs": [],
      "source": [
        "print(\"=== PERCENTILE METHOD ===\")\n",
        "\n",
        "# Conservative chunking (fewer breakpoints)\n",
        "breakpoints_percentile_95 = compute_breakpoints(similarities, method=\"percentile\", threshold=95)\n",
        "print(f\"Percentile 95% threshold: {len(breakpoints_percentile_95)} breakpoints\")\n",
        "print(f\"Breakpoints: {breakpoints_percentile_95}\")\n",
        "\n",
        "# Moderate chunking (moderate breakpoints)\n",
        "breakpoints_percentile_90 = compute_breakpoints(similarities, method=\"percentile\", threshold=90)\n",
        "print(f\"Percentile 90% threshold: {len(breakpoints_percentile_90)} breakpoints\")\n",
        "print(f\"Breakpoints: {breakpoints_percentile_90}\")\n",
        "\n",
        "# Aggressive chunking (more breakpoints)\n",
        "breakpoints_percentile_80 = compute_breakpoints(similarities, method=\"percentile\", threshold=80)\n",
        "print(f\"Percentile 80% threshold: {len(breakpoints_percentile_80)} breakpoints\")\n",
        "print(f\"Breakpoints: {breakpoints_percentile_80}\")\n",
        "\n",
        "# Very aggressive chunking (many breakpoints)\n",
        "breakpoints_percentile_70 = compute_breakpoints(similarities, method=\"percentile\", threshold=70)\n",
        "print(f\"Percentile 70% threshold: {len(breakpoints_percentile_70)} breakpoints\")\n",
        "print(f\"Breakpoints: {breakpoints_percentile_70}\")\n",
        "\n",
        "print(\"\\n\" + \"=\"*50 + \"\\n\")\n"
      ]
    },
    {
      "cell_type": "code",
      "source": [
        "\n",
        "# Method 2: Standard Deviation Method\n",
        "# Finds breakpoints where similarity is X standard deviations below the mean\n",
        "# Higher threshold = more breakpoints (more sensitive)\n",
        "# Lower threshold = fewer breakpoints (less sensitive)\n",
        "\n",
        "print(\"=== STANDARD DEVIATION METHOD ===\")\n",
        "\n",
        "# Conservative chunking (fewer breakpoints)\n",
        "breakpoints_std_1 = compute_breakpoints(similarities, method=\"standard_deviation\", threshold=1)\n",
        "print(f\"1 standard deviation threshold: {len(breakpoints_std_1)} breakpoints\")\n",
        "print(f\"Breakpoints: {breakpoints_std_1}\")\n",
        "\n",
        "# Moderate chunking (moderate breakpoints)\n",
        "breakpoints_std_1_5 = compute_breakpoints(similarities, method=\"standard_deviation\", threshold=1.5)\n",
        "print(f\"1.5 standard deviation threshold: {len(breakpoints_std_1_5)} breakpoints\")\n",
        "print(f\"Breakpoints: {breakpoints_std_1_5}\")\n",
        "\n",
        "# Aggressive chunking (more breakpoints)\n",
        "breakpoints_std_2 = compute_breakpoints(similarities, method=\"standard_deviation\", threshold=2)\n",
        "print(f\"2 standard deviation threshold: {len(breakpoints_std_2)} breakpoints\")\n",
        "print(f\"Breakpoints: {breakpoints_std_2}\")\n",
        "\n",
        "# Very aggressive chunking (many breakpoints)\n",
        "breakpoints_std_2_5 = compute_breakpoints(similarities, method=\"standard_deviation\", threshold=2.5)\n",
        "print(f\"2.5 standard deviation threshold: {len(breakpoints_std_2_5)} breakpoints\")\n",
        "print(f\"Breakpoints: {breakpoints_std_2_5}\")\n",
        "\n",
        "print(\"\\n\" + \"=\"*50 + \"\\n\")"
      ],
      "metadata": {
        "id": "ZtTsJk9QM_cz"
      },
      "execution_count": null,
      "outputs": []
    },
    {
      "cell_type": "code",
      "source": [
        "# Method 3: Interquartile Range (IQR) Method\n",
        "# Uses the IQR outlier detection rule: Q1 - 1.5 * IQR\n",
        "# This method doesn't use the threshold parameter in the traditional sense\n",
        "# The threshold is fixed at 1.5 (standard IQR outlier multiplier)\n",
        "# But you can modify it by changing the multiplier\n",
        "\n",
        "print(\"=== INTERQUARTILE RANGE METHOD ===\")\n",
        "\n",
        "# Standard IQR method (threshold parameter is ignored, but we'll show it)\n",
        "breakpoints_iqr = compute_breakpoints(similarities, method=\"interquartile\", threshold=90)\n",
        "print(f\"Standard IQR method: {len(breakpoints_iqr)} breakpoints\")\n",
        "print(f\"Breakpoints: {breakpoints_iqr}\")\n",
        "\n",
        "print(\"\\n\" + \"=\"*50 + \"\\n\")"
      ],
      "metadata": {
        "id": "DeJCkGffNKSo"
      },
      "execution_count": null,
      "outputs": []
    },
    {
      "cell_type": "code",
      "source": [
        "\n",
        "# Comparison of all methods\n",
        "print(\"=== COMPARISON OF ALL METHODS ===\")\n",
        "print(f\"Percentile 90%:        {len(breakpoints_percentile_90)} breakpoints\")\n",
        "print(f\"Percentile 80%:        {len(breakpoints_percentile_80)} breakpoints\")\n",
        "print(f\"Standard Dev 1.5:      {len(breakpoints_std_1_5)} breakpoints\")\n",
        "print(f\"Standard Dev 2.0:      {len(breakpoints_std_2)} breakpoints\")\n",
        "print(f\"IQR method:            {len(breakpoints_iqr)} breakpoints\")"
      ],
      "metadata": {
        "id": "d4GoP7glNOuK"
      },
      "execution_count": null,
      "outputs": []
    },
    {
      "cell_type": "code",
      "source": [
        "\n",
        "# Create chunks with different methods for comparison\n",
        "print(\"\\n=== CHUNK COMPARISON ===\")\n",
        "\n",
        "# Using percentile 90%\n",
        "chunks_percentile_90 = split_into_chunks(sentences, breakpoints_percentile_90)\n",
        "print(f\"\\nPercentile 90% - {len(chunks_percentile_90)} chunks:\")\n",
        "for i, chunk in enumerate(chunks_percentile_90):\n",
        "    print(f\"  Chunk {i+1}: {chunk[:100]}...\" if len(chunk) > 100 else f\"  Chunk {i+1}: {chunk}\")\n",
        "\n",
        "# Using standard deviation 1.5\n",
        "chunks_std_1_5 = split_into_chunks(sentences, breakpoints_std_1_5)\n",
        "print(f\"\\nStandard Dev 1.5 - {len(chunks_std_1_5)} chunks:\")\n",
        "for i, chunk in enumerate(chunks_std_1_5):\n",
        "    print(f\"  Chunk {i+1}: {chunk[:100]}...\" if len(chunk) > 100 else f\"  Chunk {i+1}: {chunk}\")\n",
        "\n",
        "# Using IQR method\n",
        "chunks_iqr = split_into_chunks(sentences, breakpoints_iqr)\n",
        "print(f\"\\nIQR method - {len(chunks_iqr)} chunks:\")\n",
        "for i, chunk in enumerate(chunks_iqr):\n",
        "    print(f\"  Chunk {i+1}: {chunk[:100]}...\" if len(chunk) > 100 else f\"  Chunk {i+1}: {chunk}\")"
      ],
      "metadata": {
        "id": "zJ-f_j4cNPDS"
      },
      "execution_count": null,
      "outputs": []
    }
  ]
}